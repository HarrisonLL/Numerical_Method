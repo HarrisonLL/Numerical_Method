{
 "cells": [
  {
   "cell_type": "code",
   "execution_count": 1,
   "metadata": {},
   "outputs": [],
   "source": [
    "import numpy as np\n",
    "import matplotlib.pyplot as plt"
   ]
  },
  {
   "cell_type": "code",
   "execution_count": 2,
   "metadata": {},
   "outputs": [],
   "source": [
    "def cardNameToInt(strings) :\n",
    "    \n",
    "    char1 = strings[0]\n",
    "    char2 = strings[1]\n",
    "\n",
    "    char_dict = {'3':4, '4':8, '5':12, '6':16, '7':20, '8':24, '9':28, 'T':32, 'J':36, 'Q':40, 'K':44, 'A':48}\n",
    "    num = char_dict[char1]\n",
    "        \n",
    "    if char2 == 'd' : num += 1\n",
    "    elif char2 == 'h' : num += 2\n",
    "    elif char2 == 's' : num += 3\n",
    "    return (num)\n",
    "\n",
    "def generatePlayersCards(n_players,available_deck):\n",
    "    # do things here\n",
    "    players_cards = np.random.choice(available_deck, size=2 * n_players, replace=False)\n",
    "    players_cards = players_cards.reshape(n_players, 2)\n",
    "    updated_card_deck = np.setdiff1d(available_deck, players_cards)\n",
    "    return (players_cards,updated_card_deck)\n",
    "\n",
    "def generateDealerCards(available_deck):\n",
    "    # do things here\n",
    "    dealer_cards = np.random.choice(available_deck, 5, replace = False)\n",
    "    updated_card_deck = np.setdiff1d(available_deck, dealer_cards)\n",
    "    return(dealer_cards,updated_card_deck)\n",
    "\n",
    "def compareTwoPlayers(player1_cards,player2_cards,dealer_cards):\n",
    "    '''\n",
    "    Defined function\n",
    "    player1_cards and player2_cards: 1d numpy array of shape (2,)\n",
    "    dealer_cards: 1d numpy array of shape (5,)\n",
    "    Return 0 if player1 cards are better\n",
    "    Return 1 if player2 cards are better\n",
    "    Return 2 if equal\n",
    "    '''\n",
    "    return np.random.choice([0,1,2], size = 1)\n",
    "    \n",
    "\n",
    "def whoWin(start_cards, players_cards, dealer_cards):\n",
    "    \n",
    "    for i in range(len(players_cards)) :\n",
    "        players_cards_i =  players_cards[i]\n",
    "        if compareTwoPlayers(start_cards, players_cards_i, dealer_cards) == 0 :\n",
    "            continue\n",
    "        if compareTwoPlayers(start_cards, players_cards_i, dealer_cards) == 1 :\n",
    "            return np.array([0,1,0])\n",
    "        if compareTwoPlayers(start_cards, players_cards_i, dealer_cards) == 2 :\n",
    "            return np.array([0,0,1])\n",
    "    return np.array([1,0,0])\n",
    "\n",
    "\n",
    "\n",
    "def monteCarloSimulation(M,N,n_players,starting_hand):\n",
    "    # do stuff here\n",
    "    win_prob = []\n",
    "    start_cards = np.array([cardNameToInt(starting_hand[0]), cardNameToInt(starting_hand[1])])\n",
    "    start_deck = np.arange(52)\n",
    "    updated_deck0 = np.setdiff1d(start_deck, start_cards)\n",
    "    for i in range(M) :\n",
    "        result = np.zeros(3)\n",
    "        for j in range(N) :\n",
    "            players_cards, updated_deck1 = generatePlayersCards(n_players,updated_deck0)\n",
    "            dealer_cards, _ =  generateDealerCards(updated_deck1)\n",
    "            result += whoWin(start_cards, players_cards, dealer_cards)\n",
    "        prob = float(result[0]) / N\n",
    "        win_prob.append(prob)\n",
    "    win_prob = np.array(win_prob)\n",
    "    return win_prob\n",
    "\n"
   ]
  },
  {
   "cell_type": "code",
   "execution_count": 3,
   "metadata": {},
   "outputs": [
    {
     "data": {
      "image/png": "[encoded data removed]",
      "text/plain": [
       "<Figure size 432x288 with 1 Axes>"
      ]
     },
     "metadata": {
      "needs_background": "light"
     },
     "output_type": "display_data"
    }
   ],
   "source": [
    "starting_hand = ['3s', '7s']\n",
    "win_prob_20 = monteCarloSimulation(100,20,1,starting_hand)\n",
    "win_prob_50 = monteCarloSimulation(100,50,1,starting_hand)\n",
    "win_prob_80 = monteCarloSimulation(100,80,1,starting_hand)\n",
    "win_prob_90 = monteCarloSimulation(100,90,1,starting_hand)\n",
    "\n",
    "mean_20 = np.mean(win_prob_20)\n",
    "mean_50 = np.mean(win_prob_50)\n",
    "std_20 = np.std(win_prob_20)\n",
    "std_50 = np.std(win_prob_50)\n",
    "\n",
    "plt.hist(win_prob_20,alpha=0.5, label='20 games')\n",
    "plt.hist(win_prob_50,alpha=0.5, label='50 games')\n",
    "plt.hist(win_prob_80,alpha=0.5, label='80 games')\n",
    "plt.hist(win_prob_90,alpha=0.5, label='90 games')\n",
    "plt.title('Starting hand ' + str(starting_hand))\n",
    "plt.legend(loc='upper left')\n",
    "plt.xlabel('Probability of winning')\n",
    "plt.ylabel('# of occurances')\n",
    "plt.show()"
   ]
  },
  {
   "cell_type": "code",
   "execution_count": null,
   "metadata": {},
   "outputs": [],
   "source": []
  }
 ],
 "metadata": {
  "kernelspec": {
   "display_name": "Python 3",
   "language": "python",
   "name": "python3"
  },
  "language_info": {
   "codemirror_mode": {
    "name": "ipython",
    "version": 3
   },
   "file_extension": ".py",
   "mimetype": "text/x-python",
   "name": "python",
   "nbconvert_exporter": "python",
   "pygments_lexer": "ipython3",
   "version": "3.6.8"
  }
 },
 "nbformat": 4,
 "nbformat_minor": 2
}
