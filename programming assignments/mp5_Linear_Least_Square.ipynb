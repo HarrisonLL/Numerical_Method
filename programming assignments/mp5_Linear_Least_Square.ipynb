{
 "cells": [
  {
   "cell_type": "code",
   "execution_count": 1,
   "metadata": {},
   "outputs": [],
   "source": [
    "import pandas as pd\n",
    "import numpy as np \n",
    "from numpy import linalg as la\n",
    "import matplotlib.pyplot as plt"
   ]
  },
  {
   "cell_type": "code",
   "execution_count": 25,
   "metadata": {},
   "outputs": [],
   "source": [
    "\n",
    "labels = ['patient ID', 'Malignant/Benign', 'radius (mean)', 'radius (stderr)', 'radius (worst)', 'texture (mean)',\n",
    "          'texture (stderr)', 'texture (worst)', 'perimeter (mean)', 'perimeter (stderr)', 'perimeter (worst)',\n",
    "          'area (mean)', 'area (stderr)', 'area (worst)', 'smoothness (mean)', 'smoothness (stderr)',\n",
    "          'smoothness (worst)', 'compactness (mean)', 'compactness (stderr)', 'compactness (worst)', 'concavity (mean)',\n",
    "          'concavity (stderr)', 'concavity (worst)', 'concave points (mean)', 'concave points (stderr)',\n",
    "          'concave points (worst)', 'symmetry (mean)', 'symmetry (stderr)', 'symmetry (worst)',\n",
    "          'fractal dimension (mean)', 'fractal dimension (stderr)', 'fractal dimension (worst)']\n",
    "\n",
    "subset_labels = ['concave points (stderr)', 'fractal dimension (stderr)', 'texture (stderr)', 'radius (worst)', 'symmetry (worst)']\n",
    "tumor_data = pd.io.parsers.read_csv(\"breast-cancer-train.dat\", header=None, names=labels)\n",
    "train_data = tumor_data.iloc[:241,:]\n",
    "test_data = tumor_data.iloc[241:,:].reset_index()"
   ]
  },
  {
   "cell_type": "code",
   "execution_count": 26,
   "metadata": {},
   "outputs": [],
   "source": [
    "def MOB(value1):\n",
    "    if value1 == 'M':\n",
    "        return 1\n",
    "    else:\n",
    "        return -1\n",
    "    \n",
    "def lls_solve(A,b) :\n",
    "    u,s,vt = la.svd(A,full_matrices=False)\n",
    "    z = u.T@b\n",
    "    y = np.zeros(len(s), dtype = 'float64')\n",
    "    for i,v in enumerate(z):\n",
    "        if s[i] >  0.00000000001:\n",
    "            y[i] = float(v)/(s[i])\n",
    "    x = la.solve(vt, y)\n",
    "    return x\n",
    "\n",
    "def data_matrix_linear(data):\n",
    "    A_linear = []\n",
    "    for label in labels[2:32]: \n",
    "        A_lineari = data[label].values.tolist()\n",
    "        A_linear.append(A_lineari)\n",
    "    A_linear = np.array(A_linear).T\n",
    "    return A_linear\n",
    "\n",
    "def data_matrix_quad(data):\n",
    "    A = []\n",
    "    for label in subset_labels:\n",
    "        A.append(data[label])\n",
    "    for label in subset_labels:\n",
    "        A.append(data[label]**2)\n",
    "\n",
    "    for i in range(len(subset_labels)-1) :\n",
    "        for j in range(i+1, len(subset_labels)) :\n",
    "            A.append(data[subset_labels[i]] * data[subset_labels[j]])\n",
    "    A_quad = np.array(A).T\n",
    "    return A_quad\n",
    "    \n",
    "    "
   ]
  },
  {
   "cell_type": "code",
   "execution_count": 27,
   "metadata": {},
   "outputs": [],
   "source": [
    "## model fitting: linear and quadratic\n",
    "        \n",
    "col = train_data[labels[1]]\n",
    "b = col.apply(MOB)\n",
    "b = np.array(b, dtype = 'float64')\n",
    "A_linear = data_matrix_linear(train_data)\n",
    "A_quad =  data_matrix_quad(train_data)\n",
    "\n",
    "## linear least square to find parameters \n",
    "\n",
    "weights_linear = lls_solve(A_linear,b)\n",
    "weights_quad = lls_solve(A_quad,b)\n"
   ]
  },
  {
   "cell_type": "code",
   "execution_count": 33,
   "metadata": {},
   "outputs": [],
   "source": [
    "## model validation\n",
    "# predictions:\n",
    "A_test_linear = data_matrix_linear(test_data)\n",
    "A_test_quad =  data_matrix_quad(test_data)\n",
    "p_linear = A_test_linear@weights_linear\n",
    "p_quad = A_test_quad@weights_quad\n",
    "# actual values:\n",
    "col = test_data[labels[1]]\n",
    "bnew = col.apply(MOB)\n",
    "bnew = np.array(bnew, dtype = 'float64')\n",
    "\n",
    "fp_linear = ((bnew<0) & (p_linear>0)).sum()\n",
    "fn_linear = ((bnew>0) & (p_linear<0)).sum()\n",
    "fp_quad = ((bnew<0) & (p_quad>0)).sum()\n",
    "fn_quad = ((bnew>0) & (p_quad<0)).sum()"
   ]
  },
  {
   "cell_type": "code",
   "execution_count": 34,
   "metadata": {},
   "outputs": [
    {
     "data": {
      "text/plain": [
       "<BarContainer object of 4 artists>"
      ]
     },
     "execution_count": 34,
     "metadata": {},
     "output_type": "execute_result"
    },
    {
     "data": {
      "image/png": "[encoded data removed]",
      "text/plain": [
       "<Figure size 432x288 with 1 Axes>"
      ]
     },
     "metadata": {
      "needs_background": "light"
     },
     "output_type": "display_data"
    }
   ],
   "source": [
    "plt.bar([\"fp_linear\",\"fn_linear\",\"fp_quad\",\"fn_quad\"], height=[fp_linear,fn_linear,fp_quad,fn_quad])"
   ]
  },
  {
   "cell_type": "code",
   "execution_count": null,
   "metadata": {},
   "outputs": [],
   "source": []
  },
  {
   "cell_type": "code",
   "execution_count": null,
   "metadata": {},
   "outputs": [],
   "source": []
  }
 ],
 "metadata": {
  "kernelspec": {
   "display_name": "Python 3",
   "language": "python",
   "name": "python3"
  },
  "language_info": {
   "codemirror_mode": {
    "name": "ipython",
    "version": 3
   },
   "file_extension": ".py",
   "mimetype": "text/x-python",
   "name": "python",
   "nbconvert_exporter": "python",
   "pygments_lexer": "ipython3",
   "version": "3.6.8"
  }
 },
 "nbformat": 4,
 "nbformat_minor": 2
}
