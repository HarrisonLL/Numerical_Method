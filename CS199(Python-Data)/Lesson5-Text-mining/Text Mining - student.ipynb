{
 "cells": [
  {
   "cell_type": "markdown",
   "metadata": {
    "collapsed": false
   },
   "source": [
    "These are some of the libraries that will be helpful to complete this activity. We will import some others along the way."
   ]
  },
  {
   "cell_type": "code",
   "execution_count": 9,
   "metadata": {
    "collapsed": false
   },
   "outputs": [
   ],
   "source": [
    "# We have used these already\n",
    "import numpy as np\n",
    "import pandas as pd\n",
    "import matplotlib.pyplot as plt\n",
    "import matplotlib as mpl\n",
    "%matplotlib inline\n",
    "mpl.rcParams[ 'figure.figsize' ] = (6,6)\n",
    "\n",
    "# New libraries\n",
    "import re"
   ]
  },
  {
   "cell_type": "markdown",
   "metadata": {
    "collapsed": false
   },
   "source": [
    "#   `lesson5`:  Text Statistics & Generation"
   ]
  },
  {
   "cell_type": "markdown",
   "metadata": {
    "collapsed": false
   },
   "source": [
    "\n",
    "\n",
    "We will start off by analyzing the relative frequency of words in William Shakespeare's corpus.  We will compare this to [Zipf's law](https://en.wikipedia.org/wiki/Zipf%27s_law), which states that, \"the frequency of any word is inversely proportional to its rank in the frequency table.\"  In other words, the most frequent word is about twice as common as the next frequent word and three times as common as the third most frequent word.\n",
    "\n",
    "For instance, the word frequency plot of the data on Wikipedia is:\n",
    "\n",
    "![](https://upload.wikimedia.org/wikipedia/commons/b/b9/Wikipedia-n-zipf.png)\n",
    "\n",
    "A perfect Zipf's law fit would be a straight line with some constant in the denominator's exponent, but that's not a bad fit at all.\n",
    "\n",
    "Formally, let:\n",
    "* $N$ be the number of elements;\n",
    "* $k$ be their rank;\n",
    "* $s$ be the value of the exponent characterizing the distribution.\n",
    "\n",
    "Zipf's law then predicts that out of a population of $N$ elements, the normalized frequency of elements of rank $k$, $f(k;s,N)$, is:\n",
    "\n",
    "\n",
    "$$\n",
    "f(k;s,N)\n",
    "=\n",
    "\\frac{1/k^s}{\\sum\\limits_{n=1}^N (1/n^s)}\n",
    "$$"
   ]
  },
  {
   "cell_type": "markdown",
   "metadata": {
    "collapsed": false
   },
   "source": [
    "Go to this website:\n",
    "\n",
    "https://www.gutenberg.org/files/100/100-0.txt\n",
    "\n",
    "The text has the complete work of William Shakespeare!\n",
    "\n",
    "We will get the content using the code snippet below, and store it in `shakespeare_data`."
   ]
  },
  {
   "cell_type": "code",
   "execution_count": 14,
   "metadata": {
    "collapsed": false
   },
   "outputs": [
   ],
   "source": [
    "shakespeare_url = 'https://www.gutenberg.org/files/100/100-0.txt'\n",
    "\n",
    "import requests\n",
    "shakespeare_data= requests.get( shakespeare_url )\n",
    "\n",
    "shakespeare_text = shakespeare_data.text"
   ]
  },
  {
   "cell_type": "code",
   "execution_count": 0,
   "metadata": {
    "collapsed": false
   },
   "outputs": [
   ],
   "source": [
   ]
  },
  {
   "cell_type": "markdown",
   "metadata": {
    "collapsed": false
   },
   "source": [
    "Check the length of the string in `shakespeare_text`"
   ]
  },
  {
   "cell_type": "code",
   "execution_count": 11,
   "metadata": {
    "collapsed": false
   },
   "outputs": [
    {
     "data": {
      "text/plain": [
       "5777367"
      ]
     },
     "execution_count": 11,
     "metadata": {
     },
     "output_type": "execute_result"
    }
   ],
   "source": [
    "len(shakespeare_text)"
   ]
  },
  {
   "cell_type": "markdown",
   "metadata": {
    "collapsed": false
   },
   "source": [
    "[Project Gutenberg](https://www.gutenberg.org/) texts frequently have a header and footer delimited from the rest of the text by three asterisks `***` before and a number of blank lines afterwards.  (It's not 100% consistent across texts.)  We will clean the text first by stripping those off."
   ]
  },
  {
   "cell_type": "code",
   "execution_count": 12,
   "metadata": {
    "collapsed": false
   },
   "outputs": [
   ],
   "source": [
    "header_marker = '*** START OF THIS PROJECT GUTENBERG EBOOK THE COMPLETE WORKS OF WILLIAM SHAKESPEARE ***'\n",
    "header_end = shakespeare_text.find( header_marker ) + len( header_marker )\n",
    "\n",
    "footer_marker = 'FINIS'\n",
    "footer_start = shakespeare_text.rfind( footer_marker ) + len( footer_marker )\n",
    "\n",
    "text = shakespeare_text[ header_end:footer_start ]"
   ]
  },
  {
   "cell_type": "code",
   "execution_count": 13,
   "metadata": {
    "collapsed": false
   },
   "outputs": [
    {
     "name": "stdout",
     "output_type": "stream",
     "text": [
      "\r\n",
      "\r\n",
      "\r\n",
      "\r\n",
      "\r\n",
      "The Complete Works of William Shakespeare\r\n",
      "\r\n",
      "\r\n",
      "\r\n",
      "by William Shakespeare\r\n",
      "\r\n",
      "\r\n",
      "\r\n",
      "\r\n",
      "---\n",
      " to Paphos, where their queen\r\n",
      "  Means to immure herself and not be seen.\r\n",
      "\r\n",
      "\r\n",
      "\r\n",
      "\r\n",
      "  FINIS\n"
     ]
    }
   ],
   "source": [
    "print( text[ :90 ] )\n",
    "print( '---' )\n",
    "print( text[ -90: ] )"
   ]
  },
  {
   "cell_type": "markdown",
   "metadata": {
    "collapsed": false
   },
   "source": [
    "We need to decide what to do with act/scene annotations, stage directions, speaking indicators, numbers, and line breaks (`'\\r'` v. `'\\n'`).\n",
    "\n",
    "1) Act/scene annotations have the form `ACT_4|SC_14`.  We can match these using _regular expressions_, which is a way of matching specific text structures.  In this case, we will match and replace entries of the form, `'ACT_{0..9}|SC_{0..9}{0..9}'`.  There aren't many of these, but we'll clean them up.\n",
    "\n",
    "2) Stage directions (_Exeunt_) are difficult to detect.  We'll leave them in.\n",
    "\n",
    "3) Speaking indicators (CLEOPATRA.) are also very hard to consistently identify in arbitrary text.  Sometimes they are on a line by themselves, but sometimes they are not.  We'll leave them in.\n",
    "\n",
    "4) Numbers only occur in acts, scenes, and pages.  We will remove them."
   ]
  },
  {
   "cell_type": "markdown",
   "metadata": {
    "collapsed": false
   },
   "source": [
    "##### Remove act/scene annotations and numbers"
   ]
  },
  {
   "cell_type": "markdown",
   "metadata": {
    "collapsed": false
   },
   "source": [
    "Take a look at this example. We will use the module `re` (Regular expression operations). \n",
    "\n",
    "Observe how the resulting string compares to the original one."
   ]
  },
  {
   "cell_type": "code",
   "execution_count": 15,
   "metadata": {
    "collapsed": false
   },
   "outputs": [
    {
     "data": {
      "text/plain": [
       "'This is the second act. : A man was standing at the door. : Not sure what to write here. ACT_: This has no number. |SC_41: In this scene, the girl is sleeping.'"
      ]
     },
     "execution_count": 15,
     "metadata": {
     },
     "output_type": "execute_result"
    }
   ],
   "source": [
    "example_string = \"This is the second act. ACT_2: A man was standing at the door. \\\n",
    "ACT_5: Not sure what to write here. ACT_: This has no number. ACT_1|SC_41: \\\n",
    "In this scene, the girl is sleeping.\"\n",
    "\n",
    "new_string = re.sub(r'ACT_[0-9]','',example_string)\n",
    "new_string"
   ]
  },
  {
   "cell_type": "markdown",
   "metadata": {
    "collapsed": false
   },
   "source": [
    "We will do the first steps for you:"
   ]
  },
  {
   "cell_type": "code",
   "execution_count": 30,
   "metadata": {
    "collapsed": false,
    "scrolled": true
   },
   "outputs": [
    {
     "name": "stdout",
     "output_type": "stream",
     "text": [
      "eauty lies,\r\n",
      "Where all the treasure of thy lusty days;\r\n",
      "To say, within thine own deep sunken eyes,\r\n",
      "Were an all-eating shame, and thriftless praise.\r\n",
      "How much more praise deservâd thy beautyâs use,\r\n",
      "If thou couldst answer âThis fair child of mine\r\n",
      "Shall sum my count, and make my old excuse,â\r\n",
      "Proving his beauty by succession thine.\r\n",
      "  This were to be new made when thou art old,\r\n",
      "  And see thy blood warm when thou feelâst it cold.\r\n",
      "\r\n",
      "\r\n",
      "                    3\r\n",
      "\r\n",
      "Look in thy glass and tell the face thou viewest,\r\n",
      "Now is the time that face should form another,\r\n",
      "Whose fresh repair if now thou not renewest,\r\n",
      "Thou dost beguile the world, unbless some mother.\r\n",
      "For where is she so fair whose uneared womb\r\n",
      "Disdains the tillage of thy husbandry?\r\n",
      "Or who is he so fond will be the tomb\r\n",
      "Of his self-love to stop posterity?\r\n",
      "Thou art thy motherâs glass and she in thee\r\n",
      "Calls back the lovely April of her prime,\r\n",
      "So thou through windows of thine age shalt see,\r\n",
      "Despite of wrinkles this thy golden time.\r\n",
      "  But if thou live remembered not to be,\r\n",
      "  Die single and thine image dies with thee.\r\n",
      "\r\n",
      "\r\n",
      "                    4\r\n",
      "\r\n",
      "Unthrifty loveliness why dost thou spend,\r\n",
      "Upon thy self thy beautyâs legacy?\r\n",
      "Natureâs bequest gives nothing but doth lend,\r\n",
      "And being frank she lends to those are free:\r\n",
      "Then beauteous niggard why dost thou abuse,\r\n",
      "The bounteous largess given thee to give?\r\n",
      "Profitless usurer why dost thou use\r\n",
      "So great a sum of sums yet canst not live?\r\n",
      "For having traffic with thy self alone,\r\n",
      "Thou of thy self thy sweet self dost deceive,\r\n",
      "Then how when nature calls thee to be gone,\r\n",
      "What acceptable audit canst thou leave?\r\n",
      "  Thy unused beauty must be tombed with thee,\r\n",
      "  Which used lives thâ executor to be.\r\n",
      "\r\n",
      "\r\n",
      "                    5\r\n",
      "\r\n",
      "Those hours that with gentle work did frame\r\n",
      "The lovely gaze where every eye doth dwell\r\n",
      "Will play the tyrants to the very same,\r\n",
      "And that unfair which fairly doth excel:\r\n",
      "For never-resting time leads summer on\r\n",
      "To hideous winter and\n"
     ]
    }
   ],
   "source": [
    "text_no_acts = re.sub( r'ACT_[0-9]','',text )\n",
    "text_no_acts = text_no_acts.replace( 'ACT_','' )\n",
    "print(text_no_acts[3000:5000])"
   ]
  },
  {
   "cell_type": "code",
   "execution_count": 0,
   "metadata": {
    "collapsed": false
   },
   "outputs": [
   ],
   "source": [
   ]
  },
  {
   "cell_type": "markdown",
   "metadata": {
    "collapsed": false
   },
   "source": [
    "Now you have to remove text of the form  `SC_XX` (XX are digits 0-9) and `SC_`"
   ]
  },
  {
   "cell_type": "code",
   "execution_count": 37,
   "metadata": {
    "collapsed": false,
    "scrolled": true
   },
   "outputs": [
    {
     "name": "stdout",
     "output_type": "stream",
     "text": [
      "\r\n",
      "\r\n",
      "\r\n",
      "\r\n",
      "\r\n",
      "The Complete Works of William Shakespeare\r\n",
      "\r\n",
      "\r\n",
      "\r\n",
      "by William Shakespeare\r\n",
      "\r\n",
      "\r\n",
      "\r\n",
      "\r\n",
      "      Contents\r\n",
      "\r\n",
      "\r\n",
      "\r\n",
      "               THE SONNETS\r\n",
      "\r\n",
      "               ALLâS WELL THAT ENDS WELL\r\n",
      "\r\n",
      "               THE TRAGEDY OF ANTONY AND CLEOPATRA\r\n",
      "\r\n",
      "               AS YOU LIKE IT\r\n",
      "\r\n",
      "               THE COMEDY OF ERRORS\r\n",
      "\r\n",
      "               THE TRAGEDY OF CORIOLANUS\r\n",
      "\r\n",
      "               CYMBELINE\r\n",
      "\r\n",
      "               THE TRAGEDY OF HAMLET, PRINCE OF DENMARK\r\n",
      "\r\n",
      "               THE FIRST PART OF KING HENRY THE FOURTH\r\n",
      "\r\n",
      "               THE SECOND PART OF KING HENRY THE FOURTH\r\n",
      "\r\n",
      "               THE LIFE OF KING HENRY THE FIFTH\r\n",
      "\r\n",
      "               THE FIRST PART OF HENRY THE SIXTH\r\n",
      "\r\n",
      "               THE SECOND PART OF KING HENRY THE SIXTH\r\n",
      "\r\n",
      "               THE THIRD PART OF KING HENRY THE SIXTH\r\n",
      "\r\n",
      "               KING HENRY THE EIGHTH\r\n",
      "\r\n",
      "               KING JOHN\r\n",
      "\r\n",
      "               THE TRAGEDY OF JULIUS CAESAR\r\n",
      "\r\n",
      "               THE TRAGEDY OF KING LEAR\r\n",
      "\r\n",
      "               LOVEâS LABOURâS LOST\r\n",
      "\r\n",
      "               THE\n"
     ]
    }
   ],
   "source": [
    "\n",
    "text_clean = re.sub( r'SC_[0-9]','',text_no_acts )\n",
    "text_clean = text_clean.replace( 'SC_','' )\n",
    "print(text_clean[:1000])"
   ]
  },
  {
   "cell_type": "markdown",
   "metadata": {
    "collapsed": false
   },
   "source": [
    "Remove all the numbers. Your resulting cleaned text should be stored in the variable `text_clean`"
   ]
  },
  {
   "cell_type": "code",
   "execution_count": 38,
   "metadata": {
    "collapsed": false
   },
   "outputs": [
   ],
   "source": [
    "text_clean = re.sub( r'[0-9]','',text_clean )\n"
   ]
  },
  {
   "cell_type": "code",
   "execution_count": 39,
   "metadata": {
    "collapsed": false,
    "scrolled": true
   },
   "outputs": [
    {
     "name": "stdout",
     "output_type": "stream",
     "text": [
      "\r\n",
      "\r\n",
      "\r\n",
      "\r\n",
      "\r\n",
      "The Complete Works of William Shakespeare\r\n",
      "\r\n",
      "\r\n",
      "\r\n",
      "by William Shakespeare\r\n",
      "\r\n",
      "\r\n",
      "\r\n",
      "\r\n",
      "      Contents\r\n",
      "\r\n",
      "\r\n",
      "\r\n",
      "               THE SONNETS\r\n",
      "\r\n",
      "               ALLâS WELL THAT ENDS WELL\r\n",
      "\r\n",
      "               THE TRAGEDY OF ANTONY AND CLEOPATRA\r\n",
      "\r\n",
      "               AS YOU LIKE IT\r\n",
      "\r\n",
      "               THE COMEDY OF ERRORS\r\n",
      "\r\n",
      "               THE TRAGEDY OF CORIOLANUS\r\n",
      "\r\n",
      "               CYMBELINE\r\n",
      "\r\n",
      "               THE TRAGEDY OF HAMLET, PRINCE OF DENMARK\r\n",
      "\r\n",
      "               THE FIRST PART OF KING HENRY THE FOURTH\r\n",
      "\r\n",
      "               THE SECOND PART OF KING HENRY THE FOURTH\r\n",
      "\r\n",
      "               THE LIFE OF KING HENRY THE FIFTH\r\n",
      "\r\n",
      "               THE FIRST PART OF HENRY THE SIXTH\r\n",
      "\r\n",
      "               THE SECOND PART OF KING HENRY THE SIXTH\r\n",
      "\r\n",
      "               THE THIRD PART OF KING HENRY THE SIXTH\r\n",
      "\r\n",
      "               KING HENRY THE EIGHTH\r\n",
      "\r\n",
      "               KING JOHN\r\n",
      "\r\n",
      "               THE TRAGEDY OF JULIUS CAESAR\r\n",
      "\r\n",
      "               THE TRAGEDY OF KING LEAR\r\n",
      "\r\n",
      "               LOVEâS LABOURâS LOST\r\n",
      "\r\n",
      "               THE TRAGEDY OF MACBETH\r\n",
      "\r\n",
      "               MEASURE FOR MEASURE\r\n",
      "\r\n",
      "               THE MERCHANT OF VENICE\r\n",
      "\r\n",
      "               THE MERRY WIVES OF WINDSOR\r\n",
      "\r\n",
      "               A MIDSUMMER NIGHTâS DREAM\r\n",
      "\r\n",
      "               MUCH ADO ABOUT NOTHING\r\n",
      "\r\n",
      "               THE TRAGEDY OF OTHELLO, MOOR OF VENICE\r\n",
      "\r\n",
      "               PERICLES, PRINCE OF TYRE\r\n",
      "\r\n",
      "               KING RICHARD THE SECOND\r\n",
      "\r\n",
      "               KING RICHARD THE THIRD\r\n",
      "\r\n",
      "               THE TRAGEDY OF ROMEO AND JULIET\r\n",
      "\r\n",
      "               THE TAMING OF THE \n",
      "---\n",
      "t by her side lay killâd\r\n",
      "Was melted like a vapour from her sight,\r\n",
      "And in his blood that on the ground lay spillâd,\r\n",
      "A purple flower sprung up, chequerâd with white,    \r\n",
      "  Resembling well his pale cheeks, and the blood\r\n",
      "  Which in round drops upon their whiteness stood.\r\n",
      "\r\n",
      "She bows her head, the new-sprung flower to smell,\r\n",
      "Comparing it to her Adonisâ breath;                 \r\n",
      "And says within her bosom it shall dwell,\r\n",
      "Since he himself is reft from her by death;\r\n",
      "  She drops the stalk, and in the breach appears\r\n",
      "  Green-dropping sap, which she compares to tears.\r\n",
      "\r\n",
      "âPoor flower,â quoth she, âthis was thy fatherâs guise,\r\n",
      "Sweet issue of a more sweet-smelling sire,\r\n",
      "For every little grief to wet his eyes,\r\n",
      "To grow unto himself was his desire,                \r\n",
      "  And so âtis thine; but know, it is as good\r\n",
      "  To wither in my breast as in his blood.\r\n",
      "\r\n",
      "âHere was thy fatherâs bed, here in my breast;\r\n",
      "Thou art the next of blood, and âtis thy right:     \r\n",
      "Lo in this hollow cradle take thy rest,\r\n",
      "My throbbing heart shall rock thee day and night:\r\n",
      "  There shall not be one minute in an hour\r\n",
      "  Wherein I will not kiss my sweet loveâs flower.â\r\n",
      "\r\n",
      "Thus weary of the world, away she hies,             \r\n",
      "And yokes her silver doves; by whose swift aid\r\n",
      "Their mistress mounted through the empty skies,\r\n",
      "In her light chariot quickly is conveyâd;           \r\n",
      "  Holding their course to Paphos, where their queen\r\n",
      "  Means to immure herself and not be seen.\r\n",
      "\r\n",
      "\r\n",
      "\r\n",
      "\r\n",
      "  FINIS\n"
     ]
    }
   ],
   "source": [
    "\n",
    "print( text_clean[ :1500 ] )\n",
    "print( '---' )\n",
    "print( text_clean[ -1500: ] )"
   ]
  },
  {
   "cell_type": "markdown",
   "metadata": {
    "collapsed": false
   },
   "source": [
    "##### Break text into pieces by whitespace (easy) and by punctuation (tedious)."
   ]
  },
  {
   "cell_type": "code",
   "execution_count": 40,
   "metadata": {
    "collapsed": false
   },
   "outputs": [
    {
     "name": "stdout",
     "output_type": "stream",
     "text": [
      "{'(', '\"', '`', '?', ']', '&', '[', '\\x9c', ',', '¨', ';', '\\x9d', ':', '\\xa0', '®', '|', '\\x89', '©', '\\\\', '¢', '¦', '.', '!', '\\x94', '_', '\\x93', '§', '*', '\\x86', '}', '\\x80', ')', '\\x98', '\\x99'}\n",
      "34\n"
     ]
    }
   ],
   "source": [
    "# Identify all non-alphabet, non-whitespace, non-digit characters, the punctuation.\n",
    "text_clean = re.sub( r'[0-9]','',text_clean )\n",
    "\n",
    "punctuation = set()\n",
    "for i in text_clean:\n",
    "    if not i.isalpha() and i not in ( '\\r','\\n','\\t',' ','\\'','-'):\n",
    "        punctuation.add( i )\n",
    "print( punctuation )\n",
    "print(len(punctuation))"
   ]
  },
  {
   "cell_type": "code",
   "execution_count": 2,
   "metadata": {
    "collapsed": false
   },
   "outputs": [
    {
     "ename": "NameError",
     "evalue": "name 're' is not defined",
     "output_type": "error",
     "traceback": [
      "\u001b[0;31m---------------------------------------------------------------------------\u001b[0m",
      "\u001b[0;31mNameError\u001b[0m                                 Traceback (most recent call last)",
      "\u001b[0;32m<ipython-input-2-f5628b7649a5>\u001b[0m in \u001b[0;36m<module>\u001b[0;34m\u001b[0m\n\u001b[0;32m----> 1\u001b[0;31m \u001b[0mtext_clean\u001b[0m \u001b[0;34m=\u001b[0m \u001b[0mre\u001b[0m\u001b[0;34m.\u001b[0m\u001b[0msub\u001b[0m\u001b[0;34m(\u001b[0m \u001b[0;34mr'[0-9]'\u001b[0m\u001b[0;34m,\u001b[0m\u001b[0;34m''\u001b[0m\u001b[0;34m,\u001b[0m\u001b[0mtext_clean\u001b[0m \u001b[0;34m)\u001b[0m\u001b[0;34m\u001b[0m\u001b[0;34m\u001b[0m\u001b[0m\n\u001b[0m\u001b[1;32m      2\u001b[0m \u001b[0;34m\u001b[0m\u001b[0m\n\u001b[1;32m      3\u001b[0m \u001b[0mpunctuation\u001b[0m \u001b[0;34m=\u001b[0m \u001b[0mset\u001b[0m\u001b[0;34m(\u001b[0m\u001b[0;34m)\u001b[0m\u001b[0;34m\u001b[0m\u001b[0;34m\u001b[0m\u001b[0m\n\u001b[1;32m      4\u001b[0m \u001b[0;32mfor\u001b[0m \u001b[0mi\u001b[0m \u001b[0;32min\u001b[0m \u001b[0mtext_clean\u001b[0m\u001b[0;34m:\u001b[0m\u001b[0;34m\u001b[0m\u001b[0;34m\u001b[0m\u001b[0m\n\u001b[1;32m      5\u001b[0m     \u001b[0;32mif\u001b[0m \u001b[0;32mnot\u001b[0m \u001b[0mi\u001b[0m\u001b[0;34m.\u001b[0m\u001b[0misalpha\u001b[0m\u001b[0;34m(\u001b[0m\u001b[0;34m)\u001b[0m \u001b[0;32mand\u001b[0m \u001b[0mi\u001b[0m \u001b[0;32mnot\u001b[0m \u001b[0;32min\u001b[0m \u001b[0;34m(\u001b[0m \u001b[0;34m'\\r'\u001b[0m\u001b[0;34m,\u001b[0m\u001b[0;34m'\\n'\u001b[0m\u001b[0;34m,\u001b[0m\u001b[0;34m'\\t'\u001b[0m\u001b[0;34m,\u001b[0m\u001b[0;34m' '\u001b[0m\u001b[0;34m,\u001b[0m\u001b[0;34m'\\''\u001b[0m\u001b[0;34m,\u001b[0m\u001b[0;34m'-'\u001b[0m\u001b[0;34m)\u001b[0m\u001b[0;34m:\u001b[0m\u001b[0;34m\u001b[0m\u001b[0;34m\u001b[0m\u001b[0m\n",
      "\u001b[0;31mNameError\u001b[0m: name 're' is not defined"
     ]
    }
   ],
   "source": [
    "text_clean = re.sub( r'[0-9]','',text_clean )\n",
    "\n",
    "punctuation = set()\n",
    "for i in text_clean:\n",
    "    if not i.isalpha() and i not in ( '\\r','\\n','\\t',' ','\\'','-'):\n",
    "        punctuation.add( i )\n",
    "print( punctuation )\n",
    "print(len(punctuation))\n",
    "\n",
    "for mark in punctuation:\n",
    "    text_clean = text_clean.replace( mark,'' )\n",
    "words = text_clean.lower().split()"
   ]
  },
  {
   "cell_type": "markdown",
   "metadata": {
    "collapsed": false
   },
   "source": [
    "We finally have a list of words that appear in the text! "
   ]
  },
  {
   "cell_type": "code",
   "execution_count": 0,
   "metadata": {
    "collapsed": false
   },
   "outputs": [
   ],
   "source": [
   ]
  },
  {
   "cell_type": "code",
   "execution_count": 42,
   "metadata": {
    "collapsed": false
   },
   "outputs": [
    {
     "name": "stdout",
     "output_type": "stream",
     "text": [
      "956829\n"
     ]
    },
    {
     "data": {
      "text/plain": [
       "['the',\n",
       " 'complete',\n",
       " 'works',\n",
       " 'of',\n",
       " 'william',\n",
       " 'shakespeare',\n",
       " 'by',\n",
       " 'william',\n",
       " 'shakespeare',\n",
       " 'contents',\n",
       " 'the',\n",
       " 'sonnets',\n",
       " 'allâs',\n",
       " 'well',\n",
       " 'that',\n",
       " 'ends',\n",
       " 'well',\n",
       " 'the',\n",
       " 'tragedy',\n",
       " 'of']"
      ]
     },
     "execution_count": 42,
     "metadata": {
     },
     "output_type": "execute_result"
    }
   ],
   "source": [
    "print(len(words))\n",
    "words[:20]"
   ]
  },
  {
   "cell_type": "markdown",
   "metadata": {
    "collapsed": false
   },
   "source": [
    "Now we have the list of words.  Turning this into a dictionary by count should be old hat for you.\n",
    "\n",
    "Make a dictionary which contains each word as a key with the corresponding number of times the word occurs in `text_clean`. Save that in `word_count`"
   ]
  },
  {
   "cell_type": "code",
   "execution_count": 46,
   "metadata": {
    "collapsed": false
   },
   "outputs": [
   ],
   "source": [
    "word_count = {}\n",
    "for word in words:\n",
    "    if word not in word_count:\n",
    "        word_count[word] = 1\n",
    "    else:\n",
    "        word_count[word] += 1\n",
    "      \n",
    "    \n",
    "\n",
    "#word_count"
   ]
  },
  {
   "cell_type": "markdown",
   "metadata": {
    "collapsed": false
   },
   "source": [
    "We turn this into a Pandas DataFrame sorted by frequency.  This makes plotting the text data easier."
   ]
  },
  {
   "cell_type": "code",
   "execution_count": 47,
   "metadata": {
    "collapsed": false
   },
   "outputs": [
   ],
   "source": [
    "sorted_by_value = sorted( word_count.items(),key=lambda kv: kv[ 1 ] )[ ::-1 ]\n",
    "df = pd.DataFrame( sorted_by_value,columns=('Word','Frequency') )"
   ]
  },
  {
   "cell_type": "code",
   "execution_count": 48,
   "metadata": {
    "collapsed": false
   },
   "outputs": [
    {
     "data": {
      "text/html": [
       "<div>\n",
       "<style scoped>\n",
       "    .dataframe tbody tr th:only-of-type {\n",
       "        vertical-align: middle;\n",
       "    }\n",
       "\n",
       "    .dataframe tbody tr th {\n",
       "        vertical-align: top;\n",
       "    }\n",
       "\n",
       "    .dataframe thead th {\n",
       "        text-align: right;\n",
       "    }\n",
       "</style>\n",
       "<table border=\"1\" class=\"dataframe\">\n",
       "  <thead>\n",
       "    <tr style=\"text-align: right;\">\n",
       "      <th></th>\n",
       "      <th>Word</th>\n",
       "      <th>Frequency</th>\n",
       "    </tr>\n",
       "  </thead>\n",
       "  <tbody>\n",
       "    <tr>\n",
       "      <th>0</th>\n",
       "      <td>the</td>\n",
       "      <td>29933</td>\n",
       "    </tr>\n",
       "    <tr>\n",
       "      <th>1</th>\n",
       "      <td>and</td>\n",
       "      <td>28278</td>\n",
       "    </tr>\n",
       "    <tr>\n",
       "      <th>2</th>\n",
       "      <td>i</td>\n",
       "      <td>21515</td>\n",
       "    </tr>\n",
       "    <tr>\n",
       "      <th>3</th>\n",
       "      <td>to</td>\n",
       "      <td>20799</td>\n",
       "    </tr>\n",
       "    <tr>\n",
       "      <th>4</th>\n",
       "      <td>of</td>\n",
       "      <td>18670</td>\n",
       "    </tr>\n",
       "  </tbody>\n",
       "</table>\n",
       "</div>"
      ],
      "text/plain": [
       "  Word  Frequency\n",
       "0  the      29933\n",
       "1  and      28278\n",
       "2    i      21515\n",
       "3   to      20799\n",
       "4   of      18670"
      ]
     },
     "execution_count": 48,
     "metadata": {
     },
     "output_type": "execute_result"
    }
   ],
   "source": [
    "df.head()"
   ]
  },
  {
   "cell_type": "code",
   "execution_count": 49,
   "metadata": {
    "collapsed": false
   },
   "outputs": [
    {
     "data": {
      "text/plain": [
       "Text(0, 0.5, 'frequency')"
      ]
     },
     "execution_count": 49,
     "metadata": {
     },
     "output_type": "execute_result"
    },
    {
     "data": {
      "image/png": "[encoded data removed]",
      "text/plain": [
       "<Figure size 432x432 with 1 Axes>"
      ]
     },
     "execution_count": 49,
     "metadata": {
      "image/png": {
       "height": 372,
       "width": 387
      }
     },
     "output_type": "execute_result"
    }
   ],
   "source": [
    "plt.loglog(df['Frequency'],'.')\n",
    "plt.xlabel('rank')\n",
    "plt.ylabel('frequency')"
   ]
  },
  {
   "cell_type": "markdown",
   "metadata": {
    "collapsed": false
   },
   "source": [
    "We can fit Zipf's law to this either as an overall match or piecewise where the distribution curves down in log–log space.  Recall our definition.\n",
    "\n",
    "$$\n",
    "f(k;s,N)\n",
    "=\n",
    "\\frac{1/k^s}{\\sum\\limits_{n=1}^N (1/n^s)}\n",
    "$$\n",
    "\n",
    "Write the function `f(k,s,N)`:"
   ]
  },
  {
   "cell_type": "code",
   "execution_count": 55,
   "metadata": {
    "collapsed": false
   },
   "outputs": [
   ],
   "source": [
    "def f( k,s,N ):\n",
    "    nu = (1 / k**s)\n",
    "    de = 0\n",
    "    for i in range(1, N+1):\n",
    "        de += 1 / i**s\n",
    "        \n",
    "    return nu / de"
   ]
  },
  {
   "cell_type": "markdown",
   "metadata": {
    "collapsed": false
   },
   "source": [
    "Let's just pick $s = 1$ for now.  We'll fit it later, but let's get the plot working first."
   ]
  },
  {
   "cell_type": "code",
   "execution_count": 56,
   "metadata": {
    "collapsed": false
   },
   "outputs": [
   ],
   "source": [
    "N = len( words )\n",
    "s = 1.0\n",
    "k = np.logspace( 0,5 )"
   ]
  },
  {
   "cell_type": "code",
   "execution_count": 57,
   "metadata": {
    "collapsed": false
   },
   "outputs": [
    {
     "data": {
      "text/plain": [
       "<matplotlib.legend.Legend at 0x7ff4f4307d68>"
      ]
     },
     "execution_count": 57,
     "metadata": {
     },
     "output_type": "execute_result"
    },
    {
     "data": {
      "image/png": "[encoded data removed]",
      "text/plain": [
       "<Figure size 432x432 with 1 Axes>"
      ]
     },
     "execution_count": 57,
     "metadata": {
      "image/png": {
       "height": 362,
       "width": 379
      }
     },
     "output_type": "execute_result"
    }
   ],
   "source": [
    "plt.loglog(df['Frequency'],'.',label='data points')\n",
    "plt.plot( k,f(k,s,N ),'s',label='Zipf, s = 1')\n",
    "plt.legend()"
   ]
  },
  {
   "cell_type": "code",
   "execution_count": 58,
   "metadata": {
    "collapsed": false
   },
   "outputs": [
    {
     "data": {
      "text/plain": [
       "<matplotlib.legend.Legend at 0x7ff4f4ec5710>"
      ]
     },
     "execution_count": 58,
     "metadata": {
     },
     "output_type": "execute_result"
    },
    {
     "data": {
      "image/png": "[encoded data removed]",
      "text/plain": [
       "<Figure size 432x432 with 1 Axes>"
      ]
     },
     "execution_count": 58,
     "metadata": {
      "image/png": {
       "height": 358,
       "width": 374
      }
     },
     "output_type": "execute_result"
    }
   ],
   "source": [
    "# Scaling up so that the line coincides\n",
    "plt.loglog(df['Frequency'],'.',label='data points')\n",
    "plt.plot( k,f(k,s,N )*1e6,'s',label='Zipf, s = 1')\n",
    "plt.legend()"
   ]
  },
  {
   "cell_type": "markdown",
   "metadata": {
    "collapsed": false
   },
   "source": [
    "An actual regression to obtain the coefficient $s$ can be carried out.  There are many packages in Python libraries which can perform a fit.  We will use [`scipy.optimize.curve_fit`](https://docs.scipy.org/doc/scipy/reference/generated/scipy.optimize.curve_fit.html)."
   ]
  },
  {
   "cell_type": "code",
   "execution_count": 63,
   "metadata": {
    "collapsed": false
   },
   "outputs": [
   ],
   "source": [
    "from scipy.optimize import curve_fit\n",
    "x = np.log( np.array( df.index ) + 2 )  # only rank matters, so throw away -inf and 0\n",
    "y = np.log( df[ 'Frequency' ] )"
   ]
  },
  {
   "cell_type": "markdown",
   "metadata": {
    "collapsed": false
   },
   "source": [
    "We need to define the function `f_fit` such that:"
   ]
  },
  {
   "cell_type": "code",
   "execution_count": 64,
   "metadata": {
    "collapsed": false
   },
   "outputs": [
   ],
   "source": [
    "def f_fit(k,s):\n",
    "    # k: independent variable, here the rank\n",
    "    # s: parameter that we want to fit\n",
    "    numer = k ** -s\n",
    "    N = len(words)\n",
    "    denom = np.sum( [ n ** -s for n in range( 1,N+1 ) ] )\n",
    "    return numer/denom"
   ]
  },
  {
   "cell_type": "markdown",
   "metadata": {
    "collapsed": false
   },
   "source": [
    "Curve fit will give the optimal result for the parameter that you are trying to fit, here the value of `s`\n"
   ]
  },
  {
   "cell_type": "code",
   "execution_count": 65,
   "metadata": {
    "collapsed": false
   },
   "outputs": [
   ],
   "source": [
    "sopt,_ = curve_fit( f_fit,x,y )"
   ]
  },
  {
   "cell_type": "code",
   "execution_count": 66,
   "metadata": {
    "collapsed": false
   },
   "outputs": [
    {
     "data": {
      "text/plain": [
       "array([1.39491411])"
      ]
     },
     "execution_count": 66,
     "metadata": {
     },
     "output_type": "execute_result"
    }
   ],
   "source": [
    "sopt"
   ]
  },
  {
   "cell_type": "markdown",
   "metadata": {
    "collapsed": false
   },
   "source": [
    "Note that the value of `s` is close to the value `1` that you used in the first plot (when referring to the frequency of words in the English language, where N is the number of all the English words, the classic version of Zipf's law has the exponent s equal to 1)."
   ]
  },
  {
   "cell_type": "markdown",
   "metadata": {
    "collapsed": false
   },
   "source": [
    "Now you can plot the Zipf's function using the fit exponent. Compare your previous fit (s=1), the best fit, and the data points."
   ]
  },
  {
   "cell_type": "code",
   "execution_count": 69,
   "metadata": {
    "collapsed": false
   },
   "outputs": [
    {
     "data": {
      "text/plain": [
       "<matplotlib.legend.Legend at 0x7ff4da3a97f0>"
      ]
     },
     "execution_count": 69,
     "metadata": {
     },
     "output_type": "execute_result"
    },
    {
     "data": {
      "image/png": "[encoded data removed]",
      "text/plain": [
       "<Figure size 432x432 with 1 Axes>"
      ]
     },
     "execution_count": 69,
     "metadata": {
      "image/png": {
       "height": 362,
       "width": 379
      }
     },
     "output_type": "execute_result"
    }
   ],
   "source": [
    "plt.loglog(df['Frequency'],'.',label='data points')\n",
    "plt.plot( k,f_fit(k,s),'s',label='Zipf, s = 1')\n",
    "plt.legend()\n"
   ]
  },
  {
   "cell_type": "markdown",
   "metadata": {
    "collapsed": false
   },
   "source": [
    "##  Markov-Chain Text Generation"
   ]
  },
  {
   "cell_type": "markdown",
   "metadata": {
    "collapsed": false
   },
   "source": [
    "Given a sufficiently large corpus of words, we can train a Markov chain generator (a kind of machine learning algorithm) to randomly generate similar text.\n",
    "\n",
    "A Markov chain represents a series of states with transition probabilities between them.  For instance, for a hypothetical text, the following possible sentence fragments can be generated:\n",
    "\n",
    "![](./img/markov-chain.png)\n",
    "\n",
    "That is, at each point in the graph, a random value is generated and used to select one of several possible following states.  The example above is simply a tiny subset of the possible phrases (which in practice would be complicated by our omission of punctuation).\n",
    "\n",
    "We can train a Markov chain generator by feeding it many possible phrases.  It uses these to assign probabilities to each state and therefore generate \"similar\" text samples.\n",
    "\n",
    "_This code is based on [Eli Bendersky's Markov text generator](https://eli.thegreenplace.net/2018/elegant-python-code-for-a-markov-chain-text-generator/)._\n",
    "\n",
    "Read the code snippets below, and make sure you understand how the training and samplings work."
   ]
  },
  {
   "cell_type": "code",
   "execution_count": 3,
   "metadata": {
    "collapsed": false
   },
   "outputs": [
    {
     "ename": "NameError",
     "evalue": "name 'text_clean' is not defined",
     "output_type": "error",
     "traceback": [
      "\u001b[0;31m---------------------------------------------------------------------------\u001b[0m",
      "\u001b[0;31mNameError\u001b[0m                                 Traceback (most recent call last)",
      "\u001b[0;32m<ipython-input-3-0006d0dc49f8>\u001b[0m in \u001b[0;36m<module>\u001b[0;34m\u001b[0m\n\u001b[1;32m      7\u001b[0m \u001b[0;31m# n is STATE_LEN+1 since it includes the predicted character as well.\u001b[0m\u001b[0;34m\u001b[0m\u001b[0;34m\u001b[0m\u001b[0;34m\u001b[0m\u001b[0m\n\u001b[1;32m      8\u001b[0m \u001b[0mSTATE_LEN\u001b[0m \u001b[0;34m=\u001b[0m \u001b[0;36m4\u001b[0m\u001b[0;34m\u001b[0m\u001b[0;34m\u001b[0m\u001b[0m\n\u001b[0;32m----> 9\u001b[0;31m \u001b[0mprint\u001b[0m\u001b[0;34m(\u001b[0m\u001b[0mtext_clean\u001b[0m\u001b[0;34m)\u001b[0m\u001b[0;34m\u001b[0m\u001b[0;34m\u001b[0m\u001b[0m\n\u001b[0m\u001b[1;32m     10\u001b[0m \u001b[0mdata\u001b[0m \u001b[0;34m=\u001b[0m \u001b[0mtext_clean\u001b[0m\u001b[0;34m.\u001b[0m\u001b[0mlower\u001b[0m\u001b[0;34m(\u001b[0m\u001b[0;34m)\u001b[0m\u001b[0;34m\u001b[0m\u001b[0;34m\u001b[0m\u001b[0m\n\u001b[1;32m     11\u001b[0m \u001b[0mmodel\u001b[0m \u001b[0;34m=\u001b[0m \u001b[0mdefaultdict\u001b[0m\u001b[0;34m(\u001b[0m \u001b[0mCounter\u001b[0m \u001b[0;34m)\u001b[0m\u001b[0;34m\u001b[0m\u001b[0;34m\u001b[0m\u001b[0m\n",
      "\u001b[0;31mNameError\u001b[0m: name 'text_clean' is not defined"
     ]
    }
   ],
   "source": [
    "from collections import defaultdict, Counter\n",
    "import random\n",
    "import sys\n",
    "\n",
    "# This is the length of the \"state\" the current character is predicted from.\n",
    "# For Markov chains with memory, this is the \"order\" of the chain. For n-grams,\n",
    "# n is STATE_LEN+1 since it includes the predicted character as well.\n",
    "STATE_LEN = 4\n",
    "data = text_clean.lower()\n",
    "model = defaultdict( Counter )\n",
    "\n",
    "print( 'Learning model...' )\n",
    "for i in range( len( data )-STATE_LEN ):\n",
    "    state = data[ i:i+STATE_LEN ]\n",
    "    next_state  = data[   i+STATE_LEN ]\n",
    "    model[ state ][ next_state ] += 1\n"
   ]
  },
  {
   "cell_type": "code",
   "execution_count": 68,
   "metadata": {
    "collapsed": false
   },
   "outputs": [
    {
     "name": "stdout",
     "output_type": "stream",
     "text": [
      "Sampling...\n",
      "rr than to my libert\r\n",
      "\r\n",
      " dispatch'd he'll be to lay henry if it but he born\r\n",
      "the die\r\n",
      "     and take an and him at and be the like eye do to fray you sweet ride a publish he many swearine-hang upon of vellingbroke\r\n",
      "\r\n",
      "dromio of peace in and every sir\r\n",
      "horatifyât\r\n",
      "\r\n",
      "cinnace of timon canst thou has a place demantus which him henry they stancy of essed to his woods\r\n",
      "these spend undon prince a heave be minius the fortunate their give his unto that thout thing hasting of titutes to me hear\r\n",
      "  mrs parally b\n"
     ]
    }
   ],
   "source": [
    "N_CHARS = 500\n",
    "\n",
    "print( 'Sampling...' )\n",
    "state = random.choice( list( model ) )\n",
    "out = list( state )\n",
    "for i in range( N_CHARS ):\n",
    "    out.extend(random.choices( list( model[ state ] ),model[ state ].values() ) )\n",
    "    state = state[ 1: ] + out[ -1 ]\n",
    "print( ''.join( out ) )"
   ]
  },
  {
   "cell_type": "markdown",
   "metadata": {
    "collapsed": false
   },
   "source": [
    "This version is based on the _letters_ only, which means that it does some strange things, like create new words.  I saw `\"conventur'd\"` and `\"leavenge\"`, for instance.\n",
    "\n",
    "A better version would use words instead of letters.  Let's write one."
   ]
  },
  {
   "cell_type": "code",
   "execution_count": 70,
   "metadata": {
    "collapsed": false
   },
   "outputs": [
    {
     "name": "stdout",
     "output_type": "stream",
     "text": [
      "Learning model...\n"
     ]
    }
   ],
   "source": [
    "from collections import defaultdict, Counter\n",
    "import random\n",
    "import sys\n",
    "\n",
    "# This is the length of the \"state\" the current character is predicted from.\n",
    "# For Markov chains with memory, this is the \"order\" of the chain. For n-grams,\n",
    "# n is STATE_LEN+1 since it includes the predicted character as well.\n",
    "STATE_LEN = 4\n",
    "\n",
    "data = words\n",
    "model = {}\n",
    "\n",
    "print( 'Learning model...' )\n",
    "for i in range( len( data )-STATE_LEN ):\n",
    "    state = data[ i:i+STATE_LEN ]\n",
    "    next_state  = data[   i+STATE_LEN ]\n",
    "    if tuple( state ) in model:\n",
    "        if next_state in model[ tuple( state ) ]:\n",
    "            model[ tuple( state ) ][ next_state ] += 1\n",
    "        else:\n",
    "            model[ tuple( state ) ][ next_state ] = 1\n",
    "    else:\n",
    "        model[ tuple( state ) ] = {}\n",
    "        model[ tuple( state ) ][ next_state ] = 1"
   ]
  },
  {
   "cell_type": "code",
   "execution_count": 71,
   "metadata": {
    "collapsed": false
   },
   "outputs": [
    {
     "name": "stdout",
     "output_type": "stream",
     "text": [
      "Sampling...\n",
      "elizabeth harp on it still shall i till heartstrings break king richard now by my george my garter and my crown- queen elizabeth profan'd dishonour'd and the third usurp'd king richard i swear- queen elizabeth by nothing for this is no oath thy george profan'd hath lost his lordly honour thy garter blemish'd pawn'd\n"
     ]
    }
   ],
   "source": [
    "N_WORDS = 50\n",
    "\n",
    "print( 'Sampling...' )\n",
    "state = random.choice( list( model ) )\n",
    "out = list( state )\n",
    "for i in range( N_WORDS ):\n",
    "    out.extend( random.choices( list( model[ state ] ),model[ state ].values() ) )\n",
    "    state = state[ 1: ] + ( out[ -1 ], )\n",
    "\n",
    "print( ' '.join( out ) )"
   ]
  },
  {
   "cell_type": "markdown",
   "metadata": {
    "collapsed": false
   },
   "source": [
    "If you spot-check this, you'll find that there are several 5-word or 6-word direct quotes from Shakespeare.  This occurs when there is only one high-likelihood chain to follow."
   ]
  },
  {
   "cell_type": "markdown",
   "metadata": {
    "collapsed": false
   },
   "source": [
    "### Another text example"
   ]
  },
  {
   "cell_type": "code",
   "execution_count": 0,
   "metadata": {
    "collapsed": false
   },
   "outputs": [
   ],
   "source": [
   ]
  },
  {
   "cell_type": "markdown",
   "metadata": {
    "collapsed": false
   },
   "source": [
    "https://github.com/ryanmcdermott/trump-speeches"
   ]
  },
  {
   "cell_type": "code",
   "execution_count": 72,
   "metadata": {
    "collapsed": false
   },
   "outputs": [
   ],
   "source": [
    "import numpy as np\n",
    "trump = open('speeches.txt', encoding='utf8').read()"
   ]
  },
  {
   "cell_type": "markdown",
   "metadata": {
    "collapsed": false
   },
   "source": [
    "Time for you to apply what you just learned with a different text.\n",
    "\n",
    "First split the text into a list of words. Then use the \"learning\" code snippet, with STATE_LEN = 2, and generate a text with 200 words. "
   ]
  },
  {
   "cell_type": "code",
   "execution_count": 98,
   "metadata": {
    "collapsed": false,
    "scrolled": true
   },
   "outputs": [
    {
     "name": "stdout",
     "output_type": "stream",
     "text": [
      "like the press look at number the real bosses those are great people leading really big in new york new jersey to texas or whatever the hell can you believe this thats not so distant future if i get elected and thats not going to be over the place through the motions\n"
     ]
    }
   ],
   "source": [
    "\n",
    "\n",
    "#1 Split the text into a list of words\n",
    "trump = re.sub( r'[0-9]','',trump )\n",
    "\n",
    "punctuation = set()\n",
    "for i in trump:\n",
    "    if not i.isalpha() and i not in ( '\\r','\\n','\\t',' ','\\'','-'):\n",
    "        punctuation.add( i )\n",
    "\n",
    "for mark in punctuation:\n",
    "    trump = trump.replace( mark,'' )\n",
    "words = trump.lower().split()\n",
    "\n",
    "#2 Use the \"learning\" code snippet\n",
    "\n",
    "STATE_LEN = 2\n",
    "\n",
    "\n",
    "data = words\n",
    "model = {}\n",
    "\n",
    "for i in range( len( data )-STATE_LEN ):\n",
    "    state = data[ i:i+STATE_LEN ]\n",
    "    next_state  = data[   i+STATE_LEN ]\n",
    "    if tuple( state ) in model:\n",
    "        if next_state in model[ tuple( state ) ]:\n",
    "            model[ tuple( state ) ][ next_state ] += 1\n",
    "        else:\n",
    "            model[ tuple( state ) ][ next_state ] = 1\n",
    "    else:\n",
    "        model[ tuple( state ) ] = {}\n",
    "        model[ tuple( state ) ][ next_state ] = 1\n",
    "    \n",
    "#3 Generate a text with 200 words.\n",
    "N_CHARS = 200\n",
    "\n",
    "state = random.choice( list( model ) )\n",
    "out = list( state )\n",
    "for i in range( N_WORDS ):\n",
    "    out.extend( random.choices( list( model[ state ] ),model[ state ].values() ) )\n",
    "    state = state[ 1: ] + ( out[ -1 ], )\n",
    "\n",
    "print( ' '.join( out ) )"
   ]
  },
  {
   "cell_type": "markdown",
   "metadata": {
    "collapsed": false
   },
   "source": [
    "You can change the value of `STATE_LEN` and see what happens. What do you observe? Do you think yout results make sense?"
   ]
  },
  {
   "cell_type": "markdown",
   "metadata": {
    "collapsed": false
   },
   "source": [
    "##  Natural Language Processing"
   ]
  },
  {
   "cell_type": "markdown",
   "metadata": {
    "collapsed": false
   },
   "source": [
    "We can carry out other interesting text classification and statistical tasks.  One tool that is helpful in this regard is the [Natural Language ToolKit](http://www.nltk.org/), which implements many natural language processing tasks like identifying parts of speech."
   ]
  },
  {
   "cell_type": "code",
   "execution_count": 73,
   "metadata": {
    "collapsed": false
   },
   "outputs": [
    {
     "name": "stdout",
     "output_type": "stream",
     "text": [
      "[nltk_data] Downloading package punkt to /home/user/nltk_data...\n"
     ]
    },
    {
     "name": "stdout",
     "output_type": "stream",
     "text": [
      "[nltk_data]   Package punkt is already up-to-date!\n",
      "[nltk_data] Downloading package averaged_perceptron_tagger to\n",
      "[nltk_data]     /home/user/nltk_data...\n"
     ]
    },
    {
     "name": "stdout",
     "output_type": "stream",
     "text": [
      "[nltk_data]   Package averaged_perceptron_tagger is already up-to-\n",
      "[nltk_data]       date!\n",
      "[nltk_data] Downloading package maxent_ne_chunker to\n",
      "[nltk_data]     /home/user/nltk_data...\n"
     ]
    },
    {
     "name": "stdout",
     "output_type": "stream",
     "text": [
      "[nltk_data]   Package maxent_ne_chunker is already up-to-date!\n",
      "[nltk_data] Downloading package words to /home/user/nltk_data...\n"
     ]
    },
    {
     "name": "stdout",
     "output_type": "stream",
     "text": [
      "[nltk_data]   Package words is already up-to-date!\n",
      "[nltk_data] Downloading package stopwords to /home/user/nltk_data...\n",
      "[nltk_data]   Package stopwords is already up-to-date!\n"
     ]
    },
    {
     "data": {
      "text/plain": [
       "True"
      ]
     },
     "execution_count": 73,
     "metadata": {
     },
     "output_type": "execute_result"
    }
   ],
   "source": [
    "import nltk\n",
    "nltk.download('punkt')\n",
    "nltk.download('averaged_perceptron_tagger')\n",
    "nltk.download('maxent_ne_chunker')\n",
    "nltk.download('words')\n",
    "nltk.download('stopwords')"
   ]
  },
  {
   "cell_type": "markdown",
   "metadata": {
    "collapsed": false
   },
   "source": [
    "NLTK can tokenize the words. This is similar to how we broke things up above with the Shakespearean corpus, but a lot easier! "
   ]
  },
  {
   "cell_type": "code",
   "execution_count": 78,
   "metadata": {
    "collapsed": false
   },
   "outputs": [
   ],
   "source": [
    "tokens = nltk.word_tokenize( trump )"
   ]
  },
  {
   "cell_type": "code",
   "execution_count": 79,
   "metadata": {
    "collapsed": false
   },
   "outputs": [
    {
     "name": "stdout",
     "output_type": "stream",
     "text": [
      "['...', 'Thank', 'you', 'so', 'much', '.', 'That', \"'s\", 'so', 'nice']\n"
     ]
    }
   ],
   "source": [
    "print(tokens[:10])"
   ]
  },
  {
   "cell_type": "markdown",
   "metadata": {
    "collapsed": false
   },
   "source": [
    "It can then tag the tokens according to inferred part of speech."
   ]
  },
  {
   "cell_type": "code",
   "execution_count": 80,
   "metadata": {
    "collapsed": false
   },
   "outputs": [
   ],
   "source": [
    "tagged = nltk.pos_tag( tokens )"
   ]
  },
  {
   "cell_type": "code",
   "execution_count": 103,
   "metadata": {
    "collapsed": false
   },
   "outputs": [
    {
     "name": "stdout",
     "output_type": "stream",
     "text": [
      "[('...', ':'), ('Thank', 'NN'), ('you', 'PRP'), ('so', 'RB'), ('much', 'RB'), ('.', '.'), ('That', 'DT'), (\"'s\", 'VBZ'), ('so', 'RB'), ('nice', 'JJ')]\n"
     ]
    }
   ],
   "source": [
    "print( tagged[:10])\n"
   ]
  },
  {
   "cell_type": "markdown",
   "metadata": {
    "collapsed": false
   },
   "source": [
    "The tags of parts of speech [can be very complicated](http://www.nltk.org/book/ch05.html).  Look for things like prepositions `IN`, verbs `VBP`, and nouns `NN`. Some other examples:\n",
    "\n",
    "- CC coordinating conjunction\n",
    "- CD cardinal digit\n",
    "- FW foreign word\n",
    "- NN noun, singular 'desk'\n",
    "- NNS noun plural 'desks'\n",
    "- PRP personal pronoun I, he, she\n",
    "- PRP$ possessive pronoun my, his, hers\n",
    "- RB adverb very, silently,\n"
   ]
  },
  {
   "cell_type": "markdown",
   "metadata": {
    "collapsed": false
   },
   "source": [
    "Let's get the frequency of each word that appears in the text. Instead of using the approach from the first part, we will use a function from NLTK."
   ]
  },
  {
   "cell_type": "code",
   "execution_count": 104,
   "metadata": {
    "collapsed": false
   },
   "outputs": [
   ],
   "source": [
    "from nltk.probability import FreqDist"
   ]
  },
  {
   "cell_type": "code",
   "execution_count": 105,
   "metadata": {
    "collapsed": false
   },
   "outputs": [
    {
     "name": "stdout",
     "output_type": "stream",
     "text": [
      "<FreqDist with 7802 samples and 213823 outcomes>\n"
     ]
    }
   ],
   "source": [
    "fdist = FreqDist(tokens)\n",
    "print(fdist)"
   ]
  },
  {
   "cell_type": "markdown",
   "metadata": {
    "collapsed": false
   },
   "source": [
    "We can now plot the 30 most frequent words:"
   ]
  },
  {
   "cell_type": "code",
   "execution_count": 106,
   "metadata": {
    "collapsed": false
   },
   "outputs": [
    {
     "data": {
      "image/png": "[encoded data removed]",
      "text/plain": [
       "<Figure size 432x432 with 1 Axes>"
      ]
     },
     "execution_count": 106,
     "metadata": {
      "image/png": {
       "height": 395,
       "width": 401
      }
     },
     "output_type": "execute_result"
    }
   ],
   "source": [
    "fdist.plot(30,cumulative=False)\n",
    "plt.show()"
   ]
  },
  {
   "cell_type": "markdown",
   "metadata": {
    "collapsed": false
   },
   "source": [
    "It is not surprising that words such as \"I\", \"and\", \"it\" appear frequently in the text. They are the so-called stop words. \n",
    "\n",
    "Often we should filter stop words from the text to be processed. The nltk module contains a list of stop words.\n"
   ]
  },
  {
   "cell_type": "code",
   "execution_count": 107,
   "metadata": {
    "collapsed": false
   },
   "outputs": [
   ],
   "source": [
    "from nltk.corpus import stopwords "
   ]
  },
  {
   "cell_type": "code",
   "execution_count": 108,
   "metadata": {
    "collapsed": false
   },
   "outputs": [
    {
     "data": {
      "text/plain": [
       "['i',\n",
       " 'me',\n",
       " 'my',\n",
       " 'myself',\n",
       " 'we',\n",
       " 'our',\n",
       " 'ours',\n",
       " 'ourselves',\n",
       " 'you',\n",
       " \"you're\",\n",
       " \"you've\",\n",
       " \"you'll\",\n",
       " \"you'd\",\n",
       " 'your',\n",
       " 'yours',\n",
       " 'yourself',\n",
       " 'yourselves',\n",
       " 'he',\n",
       " 'him',\n",
       " 'his']"
      ]
     },
     "execution_count": 108,
     "metadata": {
     },
     "output_type": "execute_result"
    }
   ],
   "source": [
    "stopwords.words('english')[:20]"
   ]
  },
  {
   "cell_type": "markdown",
   "metadata": {
    "collapsed": false
   },
   "source": [
    "Write a code snippet that loops over the words in the text, and removes the words that appear in the list `stopwords.words('english')`. You can use `.remove` for that.\n",
    "\n",
    "To make sure your code snippet runs fast, use only the first 10000 entries of the text saved in `tokens`. Plot the frequency of the 30 words that have the highest count once the stop words are removed."
   ]
  },
  {
   "cell_type": "code",
   "execution_count": 109,
   "metadata": {
    "collapsed": false
   },
   "outputs": [
   ],
   "source": [
    "small_tokens = tokens[:10000]"
   ]
  },
  {
   "cell_type": "code",
   "execution_count": 110,
   "metadata": {
    "collapsed": false
   },
   "outputs": [
    {
     "data": {
      "image/png": "[encoded data removed]",
      "text/plain": [
       "<Figure size 432x432 with 1 Axes>"
      ]
     },
     "execution_count": 110,
     "metadata": {
      "image/png": {
       "height": 399,
       "width": 388
      }
     },
     "output_type": "execute_result"
    }
   ],
   "source": [
    "for token in small_tokens:\n",
    "    if token in stopwords.words('english'):\n",
    "        small_tokens.remove(token)\n",
    "\n",
    "freq = FreqDist(small_tokens)\n",
    "freq.plot(30, cumulative=False)\n",
    "plt.show()"
   ]
  },
  {
   "cell_type": "markdown",
   "metadata": {
    "collapsed": false
   },
   "source": [
    "### Just one more website:\n",
    "\n",
    "The code snippet below gets the text of a blog. We will use BeautifulSoup for webscrapping, similar to what we did in lesson 3. "
   ]
  },
  {
   "cell_type": "code",
   "execution_count": 119,
   "metadata": {
    "collapsed": false
   },
   "outputs": [
   ],
   "source": [
    "import requests\n",
    "from bs4 import BeautifulSoup\n",
    "\n",
    "url = 'https://amerisleep.com/blog/oversleeping-the-health-effects/'\n",
    "res = requests.get(url)\n",
    "html_page = res.content\n",
    "soup = BeautifulSoup(html_page, 'html.parser')\n",
    "text = soup.find_all(text=True)\n",
    " \n",
    "# Removing some part of the webpage that not relevant for the text scrapping.\n",
    "new_text = ''\n",
    "blacklist = ['[document]','noscript','header','html','meta','head', 'input','script']\n",
    "\n",
    "for t in text:\n",
    "    if t.parent.name not in blacklist:\n",
    "        new_text += '{} '.format(t)"
   ]
  },
  {
   "cell_type": "markdown",
   "metadata": {
    "collapsed": false
   },
   "source": [
    "Now that you have this `new_text`, use `nltk` to get the tokens (the list of words in the text), remove the stop words and plot the frequency. Can you tell what is the topic of the website without reading the text (or paying attention to the url)? "
   ]
  },
  {
   "cell_type": "code",
   "execution_count": 120,
   "metadata": {
    "collapsed": false
   },
   "outputs": [
    {
     "data": {
      "image/png": "[encoded data removed]",
      "text/plain": [
       "<Figure size 432x432 with 1 Axes>"
      ]
     },
     "execution_count": 120,
     "metadata": {
      "image/png": {
       "height": 425,
       "width": 388
      }
     },
     "output_type": "execute_result"
    }
   ],
   "source": [
    "\n",
    "tokens = nltk.word_tokenize( new_text )\n",
    "fdist = FreqDist(tokens)\n",
    "for token in tokens:\n",
    "    if token in stopwords.words('english'):\n",
    "        tokens.remove(token)\n",
    "\n",
    "freq = FreqDist(small_tokens)\n",
    "freq.plot(30, cumulative=False)\n",
    "plt.show()\n"
   ]
  },
  {
   "cell_type": "code",
   "execution_count": 0,
   "metadata": {
    "collapsed": true
   },
   "outputs": [
   ],
   "source": [
    "## PL solution \n",
    "import numpy as np\n",
    "import pandas as pd\n",
    "import nltk\n",
    "from nltk.corpus import stopwords\n",
    "from nltk.stem import WordNetLemmatizer\n",
    "\n",
    "# 1. Load dataset\n",
    "\n",
    "df = pd.read_csv(\"spam.csv\")\n",
    "\n",
    "# 2. Split Spam and Ham\n",
    "\n",
    "spam = df[df['Label'] == 'spam']\n",
    "ham = df[df['Label'] == 'ham']\n",
    "\n",
    "num_total = len(spam.to_numpy()) + len(ham.to_numpy())\n",
    "num_spam = len(spam.to_numpy())\n",
    "num_ham = len(ham.to_numpy())\n",
    "\n",
    "prob_spam = float(num_spam)/num_total\n",
    "prob_ham = float(num_ham)/num_total\n",
    "\n",
    "\n",
    "\n",
    "\n",
    "# 3. Create tokenizer function\n",
    "\n",
    "def tokenize_text(message):\n",
    "    \"\"\"\n",
    "    message: A string containing a single sentence.\n",
    "    returns: A list of tokens.\n",
    "    \"\"\"\n",
    "    # Implement me!\n",
    "    # - Tokenize the message\n",
    "    # - Remove non word tokens and stopwords\n",
    "    # - Convert tokens to lemmas\n",
    "    # - Convert everything to lowercase\n",
    "    stopWords = set(stopwords.words('english')) \n",
    "    message = nltk.word_tokenize(message)\n",
    "    ret = []\n",
    "\n",
    "    for word in message:\n",
    "        \n",
    "        if str.isalpha(word) and word not in stopWords:\n",
    "        \n",
    "            lemmatizer = WordNetLemmatizer()\n",
    "            lemma = lemmatizer.lemmatize(word)\n",
    "            lemma = lemma.lower()\n",
    "            ret.append(lemma)\n",
    "    \n",
    "    return ret\n",
    "\n",
    "# an example to test your function:\n",
    "print(tokenize_text(df.values[0, 1]))\n",
    "# the expected output:\n",
    "print(['go', 'jurong', 'point', 'available', 'bugis', 'n', 'great', 'world', 'la', 'e', 'buffet', 'cine', 'got', 'amore', 'wat'])\n",
    "\n",
    "# 4. Get Word Probabilities\n",
    "\n",
    "prob_spam_words = {}\n",
    "prob_ham_words = {}\n",
    "\n",
    "\n",
    "# Uncomment this once you get to it.\n",
    "\n",
    "for text in spam.values[:,1]:\n",
    "    tokens = tokenize_text(text)\n",
    "    for token in tokens:\n",
    "        if token not in prob_spam_words:\n",
    "            prob_spam_words[token] = 1./num_total\n",
    "        else: \n",
    "            prob_spam_words[token] += 1./num_total \n",
    "\n",
    "for text in ham.values[:,1]:\n",
    "    tokens = tokenize_text(text)\n",
    "    for token in tokens:\n",
    "        if token not in prob_ham_words:\n",
    "            prob_ham_words[token] = 1./num_total\n",
    "        else: \n",
    "            prob_ham_words[token] += 1./num_total \n",
    "\n",
    "\n",
    "# 5. Classify message\n",
    "            \n",
    "def get_class_probability(tokens, probabilities):\n",
    "    eta = 0\n",
    "    for token in tokens:\n",
    "        p = 1e-4\n",
    "        if token in probabilities:\n",
    "            p = probabilities[token]\n",
    "        eta += np.log(p)\n",
    "    return np.exp(eta)\n",
    "\n",
    "\n",
    "\n",
    "pws = get_class_probability(test_message,prob_spam_words)\n",
    "prob_msg_spam = pws*prob_spam \n",
    "phs = get_class_probability(test_message,prob_ham_words)\n",
    "prob_msg_ham = phs*prob_ham\n",
    "is_spam = False if prob_msg_spam > prob_msg_ham else True\n",
    "\n",
    "\n"
   ]
  },
  {
   "cell_type": "code",
   "execution_count": 0,
   "metadata": {
    "collapsed": false
   },
   "outputs": [
   ],
   "source": [
   ]
  },
  {
   "cell_type": "code",
   "execution_count": 0,
   "metadata": {
    "collapsed": false
   },
   "outputs": [
   ],
   "source": [
   ]
  }
 ],
 "metadata": {
  "kernelspec": {
   "display_name": "Python 3 (system-wide)",
   "language": "python",
   "metadata": {
    "cocalc": {
     "description": "Python 3 programming language",
     "priority": 100,
     "url": "https://www.python.org/"
    }
   },
   "name": "python3"
  },
  "language_info": {
   "codemirror_mode": {
    "name": "ipython",
    "version": 3
   },
   "file_extension": ".py",
   "mimetype": "text/x-python",
   "name": "python",
   "nbconvert_exporter": "python",
   "pygments_lexer": "ipython3",
   "version": "3.6.9"
  }
 },
 "nbformat": 4,
 "nbformat_minor": 0
}